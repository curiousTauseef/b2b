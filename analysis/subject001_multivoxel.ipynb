{
 "cells": [
  {
   "cell_type": "code",
   "execution_count": 28,
   "metadata": {},
   "outputs": [
    {
     "name": "stdout",
     "output_type": "stream",
     "text": [
      "Populating the interactive namespace from numpy and matplotlib\n"
     ]
    }
   ],
   "source": [
    "import os, sys\n",
    "from os.path import join\n",
    "\n",
    "import nibabel as nib\n",
    "import numpy as np\n",
    "import pandas as pd\n",
    "\n",
    "from nilearn.image import index_img\n",
    "from nilearn.image import load_img\n",
    "from nilearn.image import mean_img\n",
    "from nilearn.image import new_img_like\n",
    "from nilearn.masking import apply_mask\n",
    "\n",
    "%pylab inline"
   ]
  },
  {
   "cell_type": "markdown",
   "metadata": {},
   "source": [
    "# Multivoxel approaches\n",
    "This notebook explores whether we can build a multivoxel model for predicting the trial state (REST, MOTOR, IMAGERY) based on the first run of data, and then apply that model to subsequent runs. \n"
   ]
  },
  {
   "cell_type": "markdown",
   "metadata": {},
   "source": [
    "# Prep Inputs"
   ]
  },
  {
   "cell_type": "code",
   "execution_count": 29,
   "metadata": {},
   "outputs": [
    {
     "data": {
      "text/html": [
       "<div>\n",
       "<table border=\"1\" class=\"dataframe\">\n",
       "  <thead>\n",
       "    <tr style=\"text-align: right;\">\n",
       "      <th></th>\n",
       "      <th>onsets_TR1</th>\n",
       "      <th>onsets_TR2</th>\n",
       "      <th>trialTypes</th>\n",
       "      <th>weights</th>\n",
       "      <th>duration</th>\n",
       "    </tr>\n",
       "  </thead>\n",
       "  <tbody>\n",
       "    <tr>\n",
       "      <th>0</th>\n",
       "      <td>4</td>\n",
       "      <td>2</td>\n",
       "      <td>rest</td>\n",
       "      <td>1.0</td>\n",
       "      <td>20</td>\n",
       "    </tr>\n",
       "    <tr>\n",
       "      <th>1</th>\n",
       "      <td>24</td>\n",
       "      <td>22</td>\n",
       "      <td>motor</td>\n",
       "      <td>1.0</td>\n",
       "      <td>10</td>\n",
       "    </tr>\n",
       "    <tr>\n",
       "      <th>2</th>\n",
       "      <td>34</td>\n",
       "      <td>32</td>\n",
       "      <td>rest</td>\n",
       "      <td>1.0</td>\n",
       "      <td>20</td>\n",
       "    </tr>\n",
       "    <tr>\n",
       "      <th>3</th>\n",
       "      <td>54</td>\n",
       "      <td>52</td>\n",
       "      <td>imagery</td>\n",
       "      <td>1.0</td>\n",
       "      <td>10</td>\n",
       "    </tr>\n",
       "    <tr>\n",
       "      <th>4</th>\n",
       "      <td>64</td>\n",
       "      <td>62</td>\n",
       "      <td>rest</td>\n",
       "      <td>1.0</td>\n",
       "      <td>20</td>\n",
       "    </tr>\n",
       "    <tr>\n",
       "      <th>5</th>\n",
       "      <td>84</td>\n",
       "      <td>82</td>\n",
       "      <td>imagery</td>\n",
       "      <td>1.0</td>\n",
       "      <td>10</td>\n",
       "    </tr>\n",
       "    <tr>\n",
       "      <th>6</th>\n",
       "      <td>94</td>\n",
       "      <td>92</td>\n",
       "      <td>rest</td>\n",
       "      <td>1.0</td>\n",
       "      <td>20</td>\n",
       "    </tr>\n",
       "    <tr>\n",
       "      <th>7</th>\n",
       "      <td>114</td>\n",
       "      <td>112</td>\n",
       "      <td>motor</td>\n",
       "      <td>1.0</td>\n",
       "      <td>10</td>\n",
       "    </tr>\n",
       "    <tr>\n",
       "      <th>8</th>\n",
       "      <td>124</td>\n",
       "      <td>122</td>\n",
       "      <td>rest</td>\n",
       "      <td>1.0</td>\n",
       "      <td>20</td>\n",
       "    </tr>\n",
       "    <tr>\n",
       "      <th>9</th>\n",
       "      <td>144</td>\n",
       "      <td>142</td>\n",
       "      <td>imagery</td>\n",
       "      <td>1.0</td>\n",
       "      <td>10</td>\n",
       "    </tr>\n",
       "    <tr>\n",
       "      <th>10</th>\n",
       "      <td>154</td>\n",
       "      <td>152</td>\n",
       "      <td>rest</td>\n",
       "      <td>1.0</td>\n",
       "      <td>20</td>\n",
       "    </tr>\n",
       "    <tr>\n",
       "      <th>11</th>\n",
       "      <td>174</td>\n",
       "      <td>172</td>\n",
       "      <td>motor</td>\n",
       "      <td>1.0</td>\n",
       "      <td>10</td>\n",
       "    </tr>\n",
       "  </tbody>\n",
       "</table>\n",
       "</div>"
      ],
      "text/plain": [
       "    onsets_TR1  onsets_TR2 trialTypes  weights  duration\n",
       "0            4           2       rest      1.0        20\n",
       "1           24          22      motor      1.0        10\n",
       "2           34          32       rest      1.0        20\n",
       "3           54          52    imagery      1.0        10\n",
       "4           64          62       rest      1.0        20\n",
       "5           84          82    imagery      1.0        10\n",
       "6           94          92       rest      1.0        20\n",
       "7          114         112      motor      1.0        10\n",
       "8          124         122       rest      1.0        20\n",
       "9          144         142    imagery      1.0        10\n",
       "10         154         152       rest      1.0        20\n",
       "11         174         172      motor      1.0        10"
      ]
     },
     "execution_count": 29,
     "metadata": {},
     "output_type": "execute_result"
    }
   ],
   "source": [
    "# load timing files\n",
    "trialOnsets = pd.read_csv('../data/subject001/timingFiles/trialOnsets.tsv', sep='\\t')\n",
    "trialOnsets"
   ]
  },
  {
   "cell_type": "code",
   "execution_count": 122,
   "metadata": {},
   "outputs": [],
   "source": [
    "# task labels\n",
    "labels_1s = np.array(['nan'] * 186, dtype=object)\n",
    "labels_1s_exclude2 = np.array(['nan'] * 186, dtype=object)\n",
    "labels_2s = np.array(['nan'] * 93, dtype=object)\n",
    "\n",
    "#loop over trialOnsets to populate labels arrays\n",
    "for i,row in trialOnsets.iterrows():\n",
    "    # 1s TRs\n",
    "    startIdx = row['onsets_TR1']\n",
    "    endIdx = startIdx + row['duration']+1\n",
    "    labels_1s[startIdx:endIdx] = row['trialTypes']\n",
    "    \n",
    "    # 1s TRs, exclude 2s\n",
    "    startIdx = row['onsets_TR1'] + 2\n",
    "    endIdx = startIdx + row['duration'] - 2\n",
    "    labels_1s_exclude2[startIdx:endIdx] = row['trialTypes']\n",
    "    \n",
    "    # 2s TRs\n",
    "    startIdx = row['onsets_TR2']/2\n",
    "    endIdx = startIdx + row['duration']/2 + 1\n",
    "    labels_2s[int(startIdx):int(endIdx)] = row['trialTypes']\n",
    "    \n",
    "# convert to pandas series\n",
    "labels_1s = pd.Series(labels_1s)\n",
    "labels_1s_exclude2 = pd.Series(labels_1s_exclude2)\n",
    "labels_2s = pd.Series(labels_2s)"
   ]
  },
  {
   "cell_type": "markdown",
   "metadata": {},
   "source": [
    "We now have two arrays representing timept labels for each TR type (i.e. 1s vs 2s):\n",
    "* **labels_1s**: timept labels for each volume in the 1s TR runs\n",
    "* **labels_1s_exclude2**: timept labels for each volume, excluding 2s of \"transition\" around each trial switch\n",
    "* **labels_2s**: timept labels for each volume in the 2s TR runs"
   ]
  },
  {
   "cell_type": "markdown",
   "metadata": {},
   "source": [
    "# First run model, Motor vs Rest\n",
    "\n",
    "Try to train a classifier to accurately predict REST from MOTOR timepts based on the first run ONLY\n",
    "\n",
    "**Goal:** Find the mask and model parameters that yield the maximum classification accuracy between MOTOR and REST timepts\n",
    "\n",
    "Using an SVM binary classifier, we'll train/test the model using Kfold cross validation with features obtained from the following masks:\n",
    "* functionally defined (5mm sphere around peak for MOTOR>REST contrast)\n",
    "* anatomically defined (full L primary motor cortex)\n",
    "* anatomically defined (L primary motor cortext thresholded at >50% prob)\n",
    "* whole brain\n",
    "\n",
    "For each mask, we'll compute classification accuracy for:\n",
    "* all MOTOR and REST volumes\n",
    "* exclude 2s of \"transition\" volumes between each trial"
   ]
  },
  {
   "cell_type": "code",
   "execution_count": 113,
   "metadata": {},
   "outputs": [],
   "source": [
    "# import necessary libraries\n",
    "from nilearn.input_data import NiftiMasker\n",
    "from sklearn.svm import SVC\n",
    "from sklearn.cross_validation import KFold\n",
    "from sklearn.cross_validation import cross_val_score\n",
    "\n",
    "from nilearn import plotting\n",
    "from nilearn.plotting import plot_stat_map, show"
   ]
  },
  {
   "cell_type": "code",
   "execution_count": 142,
   "metadata": {
    "collapsed": true
   },
   "outputs": [],
   "source": [
    "# build a function to compute mean cross validation score for a given mask and condition label vector\n",
    "def runClassification(mask, labels):\n",
    "    \"\"\"\n",
    "    inputs:\n",
    "        - mask: path to the mask file \n",
    "        - labels: a 1xNumTimepts array of timept labels \n",
    "    \"\"\"\n",
    "    \n",
    "    # set up masker based on the mask\n",
    "    masker = NiftiMasker(mask_img=mask, standardize=True)\n",
    "    \n",
    "    # load fMRI corresponding to voxels within mask\n",
    "    fmri = masker.fit_transform('../data/subject001/pyneal_002/receivedFunc.nii.gz')\n",
    "    \n",
    "    # create an array mask for the conditions of interest\n",
    "    conditions_mask = labels.isin(['rest', 'motor'])\n",
    "    \n",
    "    # grab only the fMRI data timepts that we're interested in\n",
    "    fmri = fmri[conditions_mask]\n",
    "    \n",
    "    # mask the labels vector to match\n",
    "    labels = labels[conditions_mask]\n",
    "    \n",
    "    # build the SVM decoder\n",
    "    svc = SVC(kernel='linear', C=100)\n",
    "    \n",
    "    # set up cross-validator\n",
    "    cv = KFold(n=len(fmri), n_folds=5)\n",
    "    \n",
    "    # run cross-validation\n",
    "    cv_score = cross_val_score(svc, fmri, labels, cv=cv)\n",
    "    \n",
    "    return cv_score\n",
    "    \n",
    "    print('{} - mean accuracy: {}, stdDev: {}'.format(os.path.split(mask)[-1], np.mean(cv_score), np.std(cv_score)))"
   ]
  },
  {
   "cell_type": "code",
   "execution_count": 148,
   "metadata": {},
   "outputs": [
    {
     "data": {
      "text/html": [
       "<div>\n",
       "<table border=\"1\" class=\"dataframe\">\n",
       "  <thead>\n",
       "    <tr style=\"text-align: right;\">\n",
       "      <th></th>\n",
       "      <th>mask</th>\n",
       "      <th>labels</th>\n",
       "      <th>meanAcc</th>\n",
       "      <th>stdDev</th>\n",
       "    </tr>\n",
       "  </thead>\n",
       "  <tbody>\n",
       "    <tr>\n",
       "      <th>0</th>\n",
       "      <td>motorSphere_5mm_FUNC_mask.nii.gz</td>\n",
       "      <td>all</td>\n",
       "      <td>0.861720</td>\n",
       "      <td>0.082855</td>\n",
       "    </tr>\n",
       "    <tr>\n",
       "      <th>1</th>\n",
       "      <td>motorSphere_5mm_FUNC_mask.nii.gz</td>\n",
       "      <td>exclude2</td>\n",
       "      <td>0.962393</td>\n",
       "      <td>0.033777</td>\n",
       "    </tr>\n",
       "    <tr>\n",
       "      <th>2</th>\n",
       "      <td>motorCortex_FUNC_mask.nii.gz</td>\n",
       "      <td>all</td>\n",
       "      <td>0.888602</td>\n",
       "      <td>0.098900</td>\n",
       "    </tr>\n",
       "    <tr>\n",
       "      <th>3</th>\n",
       "      <td>motorCortex_FUNC_mask.nii.gz</td>\n",
       "      <td>exclude2</td>\n",
       "      <td>0.925071</td>\n",
       "      <td>0.077562</td>\n",
       "    </tr>\n",
       "    <tr>\n",
       "      <th>4</th>\n",
       "      <td>motorCortex_50prob_FUNC_mask.nii.gz</td>\n",
       "      <td>all</td>\n",
       "      <td>0.835269</td>\n",
       "      <td>0.075638</td>\n",
       "    </tr>\n",
       "    <tr>\n",
       "      <th>5</th>\n",
       "      <td>motorCortex_50prob_FUNC_mask.nii.gz</td>\n",
       "      <td>exclude2</td>\n",
       "      <td>0.894302</td>\n",
       "      <td>0.072054</td>\n",
       "    </tr>\n",
       "    <tr>\n",
       "      <th>6</th>\n",
       "      <td>wholeBrain_FUNC_mask.nii.gz</td>\n",
       "      <td>all</td>\n",
       "      <td>0.875484</td>\n",
       "      <td>0.114390</td>\n",
       "    </tr>\n",
       "    <tr>\n",
       "      <th>7</th>\n",
       "      <td>wholeBrain_FUNC_mask.nii.gz</td>\n",
       "      <td>exclude2</td>\n",
       "      <td>0.909687</td>\n",
       "      <td>0.076423</td>\n",
       "    </tr>\n",
       "  </tbody>\n",
       "</table>\n",
       "</div>"
      ],
      "text/plain": [
       "                                  mask    labels   meanAcc    stdDev\n",
       "0     motorSphere_5mm_FUNC_mask.nii.gz       all  0.861720  0.082855\n",
       "1     motorSphere_5mm_FUNC_mask.nii.gz  exclude2  0.962393  0.033777\n",
       "2         motorCortex_FUNC_mask.nii.gz       all  0.888602  0.098900\n",
       "3         motorCortex_FUNC_mask.nii.gz  exclude2  0.925071  0.077562\n",
       "4  motorCortex_50prob_FUNC_mask.nii.gz       all  0.835269  0.075638\n",
       "5  motorCortex_50prob_FUNC_mask.nii.gz  exclude2  0.894302  0.072054\n",
       "6          wholeBrain_FUNC_mask.nii.gz       all  0.875484  0.114390\n",
       "7          wholeBrain_FUNC_mask.nii.gz  exclude2  0.909687  0.076423"
      ]
     },
     "execution_count": 148,
     "metadata": {},
     "output_type": "execute_result"
    }
   ],
   "source": [
    "masks = ['motorSphere_5mm_FUNC_mask.nii.gz',\n",
    "         'motorCortex_FUNC_mask.nii.gz',\n",
    "         'motorCortex_50prob_FUNC_mask.nii.gz',\n",
    "         'wholeBrain_FUNC_mask.nii.gz']\n",
    "\n",
    "allResults = pd.DataFrame(columns=['mask', 'labels', 'meanAcc', 'stdDev'])\n",
    "\n",
    "for mask in masks:\n",
    "    for labels in ['all', 'exclude2']:\n",
    "        # full path to mask file\n",
    "        maskFile = join('../data/subject001/pyneal_002/mask_transforms/FUNC_masks', mask)\n",
    "        \n",
    "        # set the correct labels var\n",
    "        if labels == 'all':\n",
    "            theseLabels = labels_1s\n",
    "        elif labels == 'exclude2':\n",
    "            theseLabels = labels_1s_exclude2\n",
    "            \n",
    "        cv_scores = runClassification(maskFile, theseLabels)\n",
    "        \n",
    "        # add results to dataframe\n",
    "        allResults = allResults.append({'mask': mask, \n",
    "                                     'labels': labels, \n",
    "                                     'meanAcc': np.mean(cv_scores), \n",
    "                                     'stdDev': np.std(cv_scores)}, ignore_index=True)\n",
    "                         \n",
    "allResults\n",
    "        "
   ]
  },
  {
   "cell_type": "code",
   "execution_count": 205,
   "metadata": {},
   "outputs": [
    {
     "data": {
      "image/png": "[encoded data removed]",
      "text/plain": [
       "<matplotlib.figure.Figure at 0x1119cf198>"
      ]
     },
     "metadata": {},
     "output_type": "display_data"
    }
   ],
   "source": [
    "xInd = np.arange(4)\n",
    "width = 0.35\n",
    "\n",
    "fig,ax = plt.subplots(figsize=(12,8))\n",
    "error_config = {'ecolor': '0.3', 'lw':3}\n",
    "\n",
    "# all timepoints plot\n",
    "allTmpts = allResults.loc[allResults['labels'] == 'all']\n",
    "rects1 = ax.bar(xInd-width/2, \n",
    "                allTmpts['meanAcc'], \n",
    "                width, \n",
    "                yerr=allTmpts['stdDev'],\n",
    "                error_kw=error_config,\n",
    "                color='coral',\n",
    "                edgecolor='none',\n",
    "                label='all timepts')\n",
    "\n",
    "\n",
    "# exclude 2s plot\n",
    "exclude2 = allResults.loc[allResults['labels'] == 'exclude2']\n",
    "rects2 = ax.bar(xInd+width/2,\n",
    "               exclude2['meanAcc'],\n",
    "               width,\n",
    "               yerr=exclude2['stdDev'],\n",
    "               error_kw=error_config,\n",
    "               color='coral',\n",
    "               alpha=.4,\n",
    "               edgecolor='none',\n",
    "               label='exclude 2s')\n",
    "\n",
    "ax.axhline(y=.5, color='k', ls='--')\n",
    "\n",
    "# format plot\n",
    "ax.set_ylabel('Classification Accuracy', fontsize=16)\n",
    "ax.set_ylim([0,1])\n",
    "ax.set_title('Motor vs Rest classification accuracy by different masks', fontsize=20)\n",
    "ax.set_xticks(xInd-width)\n",
    "ax.set_xticklabels(masks, rotation=45, fontsize=16)\n",
    "ax.legend(loc=4)\n",
    "\n",
    "ax.spines['top'].set_visible(False)\n",
    "ax.spines['right'].set_visible(False)\n",
    "plt.tick_params(top='off', right='off')"
   ]
  },
  {
   "cell_type": "markdown",
   "metadata": {},
   "source": [
    "# Test model on subsequent runs\n",
    "\n",
    "The best model was the one using the **motorSphere_5mm_FUNC_mask.nii.gz** mask and the **exclude 2s** labels. Take this model, and test it on other runs"
   ]
  },
  {
   "cell_type": "code",
   "execution_count": 227,
   "metadata": {},
   "outputs": [
    {
     "name": "stdout",
     "output_type": "stream",
     "text": [
      "[ 0.93939394  0.95454545]\n"
     ]
    }
   ],
   "source": [
    "mask =  join('../data/subject001/pyneal_002/mask_transforms/FUNC_masks', 'motorSphere_5mm_FUNC_mask.nii.gz')\n",
    "labels = labels_1s_exclude2\n",
    "\n",
    "## recreate the model\n",
    "# set up masker based on the mask\n",
    "masker = NiftiMasker(mask_img=mask, standardize=True)\n",
    "\n",
    "# load fMRI corresponding to voxels within mask\n",
    "fmri = masker.fit_transform('../data/subject001/pyneal_002/receivedFunc.nii.gz')\n",
    "\n",
    "# create an array mask for the conditions of interest\n",
    "conditions_mask = labels.isin(['rest', 'motor'])\n",
    "\n",
    "# grab only the fMRI data timepts that we're interested in\n",
    "fmri = fmri[conditions_mask]\n",
    "\n",
    "# mask the labels vector to match\n",
    "labels = labels[conditions_mask]\n",
    "\n",
    "# build the SVM decoder\n",
    "svc = SVC(kernel='linear', C=100)\n",
    "\n",
    "# set up cross-validator\n",
    "cv = KFold(n=len(fmri), n_folds=2)\n",
    "\n",
    "# run cross-validation\n",
    "cv_score = cross_val_score(svc, fmri, labels, cv=cv)\n",
    "\n",
    "print(cv_score)"
   ]
  },
  {
   "cell_type": "code",
   "execution_count": 209,
   "metadata": {},
   "outputs": [
    {
     "data": {
      "text/plain": [
       "(132, 63)"
      ]
     },
     "execution_count": 209,
     "metadata": {},
     "output_type": "execute_result"
    }
   ],
   "source": [
    "fmri.shape"
   ]
  },
  {
   "cell_type": "code",
   "execution_count": 210,
   "metadata": {
    "collapsed": true
   },
   "outputs": [],
   "source": [
    "X = fmri[100,:]"
   ]
  },
  {
   "cell_type": "code",
   "execution_count": 216,
   "metadata": {},
   "outputs": [
    {
     "data": {
      "text/plain": [
       "(1, 63)"
      ]
     },
     "execution_count": 216,
     "metadata": {},
     "output_type": "execute_result"
    }
   ],
   "source": [
    "X = X.reshape(1,63)\n",
    "X.shape"
   ]
  },
  {
   "cell_type": "code",
   "execution_count": 223,
   "metadata": {},
   "outputs": [
    {
     "data": {
      "text/plain": [
       "SVC(C=100, cache_size=200, class_weight=None, coef0=0.0,\n",
       "  decision_function_shape='ovr', degree=3, gamma='auto', kernel='linear',\n",
       "  max_iter=-1, probability=True, random_state=None, shrinking=True,\n",
       "  tol=0.001, verbose=False)"
      ]
     },
     "execution_count": 223,
     "metadata": {},
     "output_type": "execute_result"
    }
   ],
   "source": [
    "svc = SVC(kernel='linear', C=100, probability=True)\n",
    "svc.fit(fmri, labels)"
   ]
  },
  {
   "cell_type": "code",
   "execution_count": 220,
   "metadata": {},
   "outputs": [
    {
     "data": {
      "text/plain": [
       "array(['rest'], dtype=object)"
      ]
     },
     "execution_count": 220,
     "metadata": {},
     "output_type": "execute_result"
    }
   ],
   "source": [
    "svc.predict(X)"
   ]
  },
  {
   "cell_type": "code",
   "execution_count": 224,
   "metadata": {},
   "outputs": [
    {
     "data": {
      "text/plain": [
       "array([[  1.16172936e-06,   9.99998838e-01]])"
      ]
     },
     "execution_count": 224,
     "metadata": {},
     "output_type": "execute_result"
    }
   ],
   "source": [
    "svc.predict_proba(X)"
   ]
  },
  {
   "cell_type": "code",
   "execution_count": 225,
   "metadata": {},
   "outputs": [
    {
     "data": {
      "text/plain": [
       "array(['motor', 'rest'], dtype=object)"
      ]
     },
     "execution_count": 225,
     "metadata": {},
     "output_type": "execute_result"
    }
   ],
   "source": [
    "svc.classes_"
   ]
  },
  {
   "cell_type": "markdown",
   "metadata": {},
   "source": [
    "If you instantiate a model with `probability=True` then you can get the the predicted probabilities for each class on every new sample you test on. \n",
    "\n",
    "The probabilities are returned for each class in the same order as in the `.classes_` attribute\n",
    "\n",
    "Use this approach to predict the probability of each class on each time pt of subsequent runs, noting that this comparison will be slightly unfair due to the different masks that are used on in each run"
   ]
  },
  {
   "cell_type": "markdown",
   "metadata": {},
   "source": [
    "# misc"
   ]
  },
  {
   "cell_type": "code",
   "execution_count": 125,
   "metadata": {},
   "outputs": [
    {
     "data": {
      "text/plain": [
       "<bound method BaseSVC.decision_function of SVC(C=100, cache_size=200, class_weight=None, coef0=0.0,\n",
       "  decision_function_shape='ovr', degree=3, gamma='auto', kernel='linear',\n",
       "  max_iter=-1, probability=False, random_state=None, shrinking=True,\n",
       "  tol=0.001, verbose=False)>"
      ]
     },
     "execution_count": 125,
     "metadata": {},
     "output_type": "execute_result"
    }
   ],
   "source": [
    "svc.decision_function"
   ]
  },
  {
   "cell_type": "code",
   "execution_count": 76,
   "metadata": {},
   "outputs": [
    {
     "name": "stdout",
     "output_type": "stream",
     "text": [
      "run_002 - 63 voxels\n",
      "run_003 - 68 voxels\n",
      "run_004 - 63 voxels\n",
      "run_005 - 58 voxels\n"
     ]
    }
   ],
   "source": [
    "# check how many voxels are in the masks for each run (given that there was different coverage areas afterall)\n",
    "for run in ['002', '003', '004', '005']:\n",
    "    mask_img = load_img(join('../data/subject001/pyneal_{}/mask_transforms/FUNC_masks'.format(run), mask))\n",
    "\n",
    "    print('run_{} - {} voxels'.format(run, int(sum(mask_img.get_data()))))"
   ]
  }
 ],
 "metadata": {
  "kernelspec": {
   "display_name": "Python 3",
   "language": "python",
   "name": "python3"
  },
  "language_info": {
   "codemirror_mode": {
    "name": "ipython",
    "version": 3
   },
   "file_extension": ".py",
   "mimetype": "text/x-python",
   "name": "python",
   "nbconvert_exporter": "python",
   "pygments_lexer": "ipython3",
   "version": "3.6.4"
  },
  "toc": {
   "base_numbering": 1,
   "nav_menu": {},
   "number_sections": true,
   "sideBar": true,
   "skip_h1_title": false,
   "title_cell": "Table of Contents",
   "title_sidebar": "Contents",
   "toc_cell": false,
   "toc_position": {},
   "toc_section_display": true,
   "toc_window_display": true
  }
 },
 "nbformat": 4,
 "nbformat_minor": 2
}

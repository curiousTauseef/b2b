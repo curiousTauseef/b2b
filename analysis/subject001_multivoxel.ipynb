{
 "cells": [
  {
   "cell_type": "code",
   "execution_count": 28,
   "metadata": {},
   "outputs": [
    {
     "name": "stdout",
     "output_type": "stream",
     "text": [
      "Populating the interactive namespace from numpy and matplotlib\n"
     ]
    }
   ],
   "source": [
    "import os, sys\n",
    "from os.path import join\n",
    "\n",
    "import nibabel as nib\n",
    "import numpy as np\n",
    "import pandas as pd\n",
    "\n",
    "from nilearn.image import index_img\n",
    "from nilearn.image import load_img\n",
    "from nilearn.image import mean_img\n",
    "from nilearn.image import new_img_like\n",
    "from nilearn.masking import apply_mask\n",
    "\n",
    "%pylab inline"
   ]
  },
  {
   "cell_type": "markdown",
   "metadata": {},
   "source": [
    "# Multivoxel approaches\n",
    "This notebook explores whether we can build a multivoxel model for predicting the trial state (REST, MOTOR, IMAGERY) based on the first run of data, and then apply that model to subsequent runs. \n"
   ]
  },
  {
   "cell_type": "markdown",
   "metadata": {},
   "source": [
    "# Prep Inputs"
   ]
  },
  {
   "cell_type": "code",
   "execution_count": 29,
   "metadata": {},
   "outputs": [
    {
     "data": {
      "text/html": [
       "<div>\n",
       "<table border=\"1\" class=\"dataframe\">\n",
       "  <thead>\n",
       "    <tr style=\"text-align: right;\">\n",
       "      <th></th>\n",
       "      <th>onsets_TR1</th>\n",
       "      <th>onsets_TR2</th>\n",
       "      <th>trialTypes</th>\n",
       "      <th>weights</th>\n",
       "      <th>duration</th>\n",
       "    </tr>\n",
       "  </thead>\n",
       "  <tbody>\n",
       "    <tr>\n",
       "      <th>0</th>\n",
       "      <td>4</td>\n",
       "      <td>2</td>\n",
       "      <td>rest</td>\n",
       "      <td>1.0</td>\n",
       "      <td>20</td>\n",
       "    </tr>\n",
       "    <tr>\n",
       "      <th>1</th>\n",
       "      <td>24</td>\n",
       "      <td>22</td>\n",
       "      <td>motor</td>\n",
       "      <td>1.0</td>\n",
       "      <td>10</td>\n",
       "    </tr>\n",
       "    <tr>\n",
       "      <th>2</th>\n",
       "      <td>34</td>\n",
       "      <td>32</td>\n",
       "      <td>rest</td>\n",
       "      <td>1.0</td>\n",
       "      <td>20</td>\n",
       "    </tr>\n",
       "    <tr>\n",
       "      <th>3</th>\n",
       "      <td>54</td>\n",
       "      <td>52</td>\n",
       "      <td>imagery</td>\n",
       "      <td>1.0</td>\n",
       "      <td>10</td>\n",
       "    </tr>\n",
       "    <tr>\n",
       "      <th>4</th>\n",
       "      <td>64</td>\n",
       "      <td>62</td>\n",
       "      <td>rest</td>\n",
       "      <td>1.0</td>\n",
       "      <td>20</td>\n",
       "    </tr>\n",
       "    <tr>\n",
       "      <th>5</th>\n",
       "      <td>84</td>\n",
       "      <td>82</td>\n",
       "      <td>imagery</td>\n",
       "      <td>1.0</td>\n",
       "      <td>10</td>\n",
       "    </tr>\n",
       "    <tr>\n",
       "      <th>6</th>\n",
       "      <td>94</td>\n",
       "      <td>92</td>\n",
       "      <td>rest</td>\n",
       "      <td>1.0</td>\n",
       "      <td>20</td>\n",
       "    </tr>\n",
       "    <tr>\n",
       "      <th>7</th>\n",
       "      <td>114</td>\n",
       "      <td>112</td>\n",
       "      <td>motor</td>\n",
       "      <td>1.0</td>\n",
       "      <td>10</td>\n",
       "    </tr>\n",
       "    <tr>\n",
       "      <th>8</th>\n",
       "      <td>124</td>\n",
       "      <td>122</td>\n",
       "      <td>rest</td>\n",
       "      <td>1.0</td>\n",
       "      <td>20</td>\n",
       "    </tr>\n",
       "    <tr>\n",
       "      <th>9</th>\n",
       "      <td>144</td>\n",
       "      <td>142</td>\n",
       "      <td>imagery</td>\n",
       "      <td>1.0</td>\n",
       "      <td>10</td>\n",
       "    </tr>\n",
       "    <tr>\n",
       "      <th>10</th>\n",
       "      <td>154</td>\n",
       "      <td>152</td>\n",
       "      <td>rest</td>\n",
       "      <td>1.0</td>\n",
       "      <td>20</td>\n",
       "    </tr>\n",
       "    <tr>\n",
       "      <th>11</th>\n",
       "      <td>174</td>\n",
       "      <td>172</td>\n",
       "      <td>motor</td>\n",
       "      <td>1.0</td>\n",
       "      <td>10</td>\n",
       "    </tr>\n",
       "  </tbody>\n",
       "</table>\n",
       "</div>"
      ],
      "text/plain": [
       "    onsets_TR1  onsets_TR2 trialTypes  weights  duration\n",
       "0            4           2       rest      1.0        20\n",
       "1           24          22      motor      1.0        10\n",
       "2           34          32       rest      1.0        20\n",
       "3           54          52    imagery      1.0        10\n",
       "4           64          62       rest      1.0        20\n",
       "5           84          82    imagery      1.0        10\n",
       "6           94          92       rest      1.0        20\n",
       "7          114         112      motor      1.0        10\n",
       "8          124         122       rest      1.0        20\n",
       "9          144         142    imagery      1.0        10\n",
       "10         154         152       rest      1.0        20\n",
       "11         174         172      motor      1.0        10"
      ]
     },
     "execution_count": 29,
     "metadata": {},
     "output_type": "execute_result"
    }
   ],
   "source": [
    "# load timing files\n",
    "trialOnsets = pd.read_csv('../data/subject001/timingFiles/trialOnsets.tsv', sep='\\t')\n",
    "trialOnsets"
   ]
  },
  {
   "cell_type": "code",
   "execution_count": 110,
   "metadata": {},
   "outputs": [
    {
     "data": {
      "text/plain": [
       "'motorSphere_5mm_FUNC_mask.nii.gz'"
      ]
     },
     "execution_count": 110,
     "metadata": {},
     "output_type": "execute_result"
    }
   ],
   "source": [
    "mask"
   ]
  },
  {
   "cell_type": "code",
   "execution_count": 122,
   "metadata": {},
   "outputs": [],
   "source": [
    "# task labels\n",
    "labels_1s = np.array(['nan'] * 186, dtype=object)\n",
    "labels_1s_exclude2 = np.array(['nan'] * 186, dtype=object)\n",
    "labels_2s = np.array(['nan'] * 93, dtype=object)\n",
    "\n",
    "#loop over trialOnsets to populate labels arrays\n",
    "for i,row in trialOnsets.iterrows():\n",
    "    # 1s TRs\n",
    "    startIdx = row['onsets_TR1']\n",
    "    endIdx = startIdx + row['duration']+1\n",
    "    labels_1s[startIdx:endIdx] = row['trialTypes']\n",
    "    \n",
    "    # 1s TRs, exclude 2s\n",
    "    startIdx = row['onsets_TR1'] + 2\n",
    "    endIdx = startIdx + row['duration'] - 2\n",
    "    labels_1s_exclude2[startIdx:endIdx] = row['trialTypes']\n",
    "    \n",
    "    # 2s TRs\n",
    "    startIdx = row['onsets_TR2']/2\n",
    "    endIdx = startIdx + row['duration']/2 + 1\n",
    "    labels_2s[int(startIdx):int(endIdx)] = row['trialTypes']\n",
    "    \n",
    "# convert to pandas series\n",
    "labels_1s = pd.Series(labels_1s)\n",
    "labels_1s_exclude2 = pd.Series(labels_1s_exclude2)\n",
    "labels_2s = pd.Series(labels_2s)"
   ]
  },
  {
   "cell_type": "code",
   "execution_count": 123,
   "metadata": {},
   "outputs": [
    {
     "data": {
      "text/plain": [
       "0        nan\n",
       "1        nan\n",
       "2        nan\n",
       "3        nan\n",
       "4        nan\n",
       "5        nan\n",
       "6       rest\n",
       "7       rest\n",
       "8       rest\n",
       "9       rest\n",
       "10      rest\n",
       "11      rest\n",
       "12      rest\n",
       "13      rest\n",
       "14      rest\n",
       "15      rest\n",
       "16      rest\n",
       "17      rest\n",
       "18      rest\n",
       "19      rest\n",
       "20      rest\n",
       "21      rest\n",
       "22      rest\n",
       "23      rest\n",
       "24       nan\n",
       "25       nan\n",
       "26     motor\n",
       "27     motor\n",
       "28     motor\n",
       "29     motor\n",
       "       ...  \n",
       "156     rest\n",
       "157     rest\n",
       "158     rest\n",
       "159     rest\n",
       "160     rest\n",
       "161     rest\n",
       "162     rest\n",
       "163     rest\n",
       "164     rest\n",
       "165     rest\n",
       "166     rest\n",
       "167     rest\n",
       "168     rest\n",
       "169     rest\n",
       "170     rest\n",
       "171     rest\n",
       "172     rest\n",
       "173     rest\n",
       "174      nan\n",
       "175      nan\n",
       "176    motor\n",
       "177    motor\n",
       "178    motor\n",
       "179    motor\n",
       "180    motor\n",
       "181    motor\n",
       "182    motor\n",
       "183    motor\n",
       "184      nan\n",
       "185      nan\n",
       "dtype: object"
      ]
     },
     "execution_count": 123,
     "metadata": {},
     "output_type": "execute_result"
    }
   ],
   "source": [
    "labels_1s_exclude2"
   ]
  },
  {
   "cell_type": "markdown",
   "metadata": {},
   "source": [
    "We now have two arrays representing timept labels for each TR type (i.e. 1s vs 2s):\n",
    "* **labels_1s**: timept labels for each volume in the 1s TR runs\n",
    "* **labels_2s**: timept labels for each volume in the 2s TR runs"
   ]
  },
  {
   "cell_type": "code",
   "execution_count": 76,
   "metadata": {},
   "outputs": [
    {
     "name": "stdout",
     "output_type": "stream",
     "text": [
      "run_002 - 63 voxels\n",
      "run_003 - 68 voxels\n",
      "run_004 - 63 voxels\n",
      "run_005 - 58 voxels\n"
     ]
    }
   ],
   "source": [
    "# check how many voxels are in the masks for each run (given that there was different coverage areas afterall)\n",
    "for run in ['002', '003', '004', '005']:\n",
    "    mask_img = load_img(join('../data/subject001/pyneal_{}/mask_transforms/FUNC_masks'.format(run), mask))\n",
    "\n",
    "    print('run_{} - {} voxels'.format(run, int(sum(mask_img.get_data()))))"
   ]
  },
  {
   "cell_type": "markdown",
   "metadata": {},
   "source": [
    "# First run model, Motor vs Rest\n",
    "\n",
    "Try to train a classifier to accurately predict REST from MOTOR timepts based on the first run ONLY\n",
    "\n",
    "**Goal:** Find the mask and model parameters that yield the maximum classification accuracy between MOTOR and REST timepts\n",
    "\n",
    "Using an SVM binary classifier, we'll train/test the model using Kfold cross validation with features obtained from the following masks:\n",
    "* functionally defined (5mm sphere around peak for MOTOR>REST contrast)\n",
    "* anatomically defined (full L primary motor cortex)\n",
    "* anatomically defined (L primary motor cortext thresholded at >50% prob)\n",
    "* whole brain\n",
    "\n",
    "For each mask, we'll compute classification accuracy for:\n",
    "* all MOTOR and REST volumes\n",
    "* exclude 2s of \"transition\" volumes between each trial"
   ]
  },
  {
   "cell_type": "code",
   "execution_count": 113,
   "metadata": {},
   "outputs": [],
   "source": [
    "# import necessary libraries\n",
    "from nilearn.input_data import NiftiMasker\n",
    "from sklearn.svm import SVC\n",
    "from sklearn.cross_validation import KFold\n",
    "from sklearn.cross_validation import cross_val_score\n",
    "\n",
    "from nilearn import plotting\n",
    "from nilearn.plotting import plot_stat_map, show"
   ]
  },
  {
   "cell_type": "code",
   "execution_count": 117,
   "metadata": {
    "collapsed": true
   },
   "outputs": [],
   "source": [
    "# build a function to compute mean cross validation score for a given mask and condition label vector\n",
    "def runClassification(mask, labels):\n",
    "    \"\"\"\n",
    "    inputs:\n",
    "        - mask: path to the mask file \n",
    "        - labels: a 1xNumTimepts array of timept labels \n",
    "    \"\"\"\n",
    "    \n",
    "    # set up masker based on the mask\n",
    "    masker = NiftiMasker(mask_img=mask, standardize=True)\n",
    "    \n",
    "    # load fMRI corresponding to voxels within mask\n",
    "    fmri = masker.fit_transform('../data/subject001/pyneal_002/receivedFunc.nii.gz')\n",
    "    \n",
    "    # create an array mask for the conditions of interest\n",
    "    conditions_mask = labels.isin(['rest', 'motor'])\n",
    "    \n",
    "    # grab only the fMRI data timepts that we're interested in\n",
    "    fmri = fmri[conditions_mask]\n",
    "    \n",
    "    # mask the labels vector to match\n",
    "    labels = labels[conditions_mask]\n",
    "    \n",
    "    # build the SVM decoder\n",
    "    svc = SVC(kernel='linear', C=100)\n",
    "    \n",
    "    # set up cross-validator\n",
    "    cv = KFold(n=len(fmri), n_folds=5)\n",
    "    \n",
    "    # run cross-validation\n",
    "    cv_score = cross_val_score(svc, fmri, labels, cv=cv)\n",
    "    \n",
    "    print('{} - mean accuracy: {}, stdDev: {}'.format(os.path.split(mask)[-1], np.mean(cv_score), np.std(cv_score)))"
   ]
  },
  {
   "cell_type": "code",
   "execution_count": 124,
   "metadata": {},
   "outputs": [
    {
     "name": "stdout",
     "output_type": "stream",
     "text": [
      "motorSphere_5mm_FUNC_mask.nii.gz - mean accuracy: 0.8617204301075269, stdDev: 0.0828546082846429\n",
      "motorSphere_5mm_FUNC_mask.nii.gz - mean accuracy: 0.9623931623931623, stdDev: 0.03377720874137647\n",
      "motorCortex_FUNC_mask.nii.gz - mean accuracy: 0.8886021505376345, stdDev: 0.09890041776952564\n",
      "motorCortex_FUNC_mask.nii.gz - mean accuracy: 0.9250712250712251, stdDev: 0.07756197690153664\n",
      "motorCortex_50prob_FUNC_mask.nii.gz - mean accuracy: 0.8352688172043011, stdDev: 0.07563780523801085\n",
      "motorCortex_50prob_FUNC_mask.nii.gz - mean accuracy: 0.8943019943019943, stdDev: 0.07205443064320721\n",
      "wholeBrain_FUNC_mask.nii.gz - mean accuracy: 0.8754838709677418, stdDev: 0.11439041006629316\n",
      "wholeBrain_FUNC_mask.nii.gz - mean accuracy: 0.9096866096866096, stdDev: 0.07642340615693713\n"
     ]
    }
   ],
   "source": [
    "masks = ['motorSphere_5mm_FUNC_mask.nii.gz',\n",
    "         'motorCortex_FUNC_mask.nii.gz',\n",
    "         'motorCortex_50prob_FUNC_mask.nii.gz',\n",
    "         'wholeBrain_FUNC_mask.nii.gz']\n",
    "\n",
    "for mask in masks:\n",
    "    for labels in [labels_1s, labels_1s_exclude2]:\n",
    "        maskFile = join('../data/subject001/pyneal_002/mask_transforms/FUNC_masks', mask)\n",
    "        runClassification(maskFile, labels)"
   ]
  },
  {
   "cell_type": "code",
   "execution_count": 125,
   "metadata": {},
   "outputs": [
    {
     "data": {
      "text/plain": [
       "<bound method BaseSVC.decision_function of SVC(C=100, cache_size=200, class_weight=None, coef0=0.0,\n",
       "  decision_function_shape='ovr', degree=3, gamma='auto', kernel='linear',\n",
       "  max_iter=-1, probability=False, random_state=None, shrinking=True,\n",
       "  tol=0.001, verbose=False)>"
      ]
     },
     "execution_count": 125,
     "metadata": {},
     "output_type": "execute_result"
    }
   ],
   "source": [
    "svc.decision_function"
   ]
  },
  {
   "cell_type": "markdown",
   "metadata": {},
   "source": [
    "## 5mm motorSphere mask\n",
    "try to train the classifier using voxels within the motor sphere mask only"
   ]
  },
  {
   "cell_type": "code",
   "execution_count": 77,
   "metadata": {
    "collapsed": true
   },
   "outputs": [],
   "source": [
    "from nilearn.input_data import NiftiMasker"
   ]
  },
  {
   "cell_type": "code",
   "execution_count": 86,
   "metadata": {},
   "outputs": [
    {
     "data": {
      "text/plain": [
       "(186, 63)"
      ]
     },
     "execution_count": 86,
     "metadata": {},
     "output_type": "execute_result"
    }
   ],
   "source": [
    "# set up a masker based on the mask\n",
    "masker = NiftiMasker(mask_img=join('../data/subject001/pyneal_002/mask_transforms/FUNC_masks', mask), \n",
    "                     standardize=True)\n",
    "\n",
    "fmri = masker.fit_transform('../data/subject001/pyneal_002/receivedFunc.nii.gz')\n",
    "fmri.shape"
   ]
  },
  {
   "cell_type": "code",
   "execution_count": 87,
   "metadata": {},
   "outputs": [],
   "source": [
    "conditions_mask = labels_1s.isin(['rest', 'motor'])"
   ]
  },
  {
   "cell_type": "code",
   "execution_count": 88,
   "metadata": {},
   "outputs": [
    {
     "data": {
      "text/plain": [
       "(151, 63)"
      ]
     },
     "execution_count": 88,
     "metadata": {},
     "output_type": "execute_result"
    }
   ],
   "source": [
    "# apply the conditions mask to the fMRI data to isolate the timepts we're interested in\n",
    "fmri = fmri[conditions_mask]\n",
    "fmri.shape"
   ]
  },
  {
   "cell_type": "code",
   "execution_count": 95,
   "metadata": {},
   "outputs": [
    {
     "data": {
      "text/plain": [
       "(151,)"
      ]
     },
     "execution_count": 95,
     "metadata": {},
     "output_type": "execute_result"
    }
   ],
   "source": [
    "# mask the conditions in the same way\n",
    "conditions = labels_1s[conditions_mask]\n",
    "conditions.shape"
   ]
  },
  {
   "cell_type": "markdown",
   "metadata": {},
   "source": [
    "### SVM Decoder\n",
    "We now have a 2D dataset of features and samples. The features are the voxels in the mask, and the samples are the timepoints that we isolated that pertain to a specific trial type. In addition, we have a conditions vector that provides a label for each of the samples. This is all we need to start using scikit-learn"
   ]
  },
  {
   "cell_type": "code",
   "execution_count": 90,
   "metadata": {
    "collapsed": true
   },
   "outputs": [],
   "source": [
    "# create the decoder\n",
    "from sklearn.svm import SVC"
   ]
  },
  {
   "cell_type": "code",
   "execution_count": 93,
   "metadata": {},
   "outputs": [
    {
     "name": "stdout",
     "output_type": "stream",
     "text": [
      "SVC(C=100, cache_size=200, class_weight=None, coef0=0.0,\n",
      "  decision_function_shape='ovr', degree=3, gamma='auto', kernel='linear',\n",
      "  max_iter=-1, probability=False, random_state=None, shrinking=True,\n",
      "  tol=0.001, verbose=False)\n"
     ]
    }
   ],
   "source": [
    "svc = SVC(kernel='linear', C=100)\n",
    "print(svc)"
   ]
  },
  {
   "cell_type": "code",
   "execution_count": 94,
   "metadata": {},
   "outputs": [
    {
     "name": "stderr",
     "output_type": "stream",
     "text": [
      "/usr/local/lib/python3.6/site-packages/sklearn/cross_validation.py:41: DeprecationWarning: This module was deprecated in version 0.18 in favor of the model_selection module into which all the refactored classes and functions are moved. Also note that the interface of the new CV iterators are different from that of this module. This module will be removed in 0.20.\n",
      "  \"This module will be removed in 0.20.\", DeprecationWarning)\n"
     ]
    }
   ],
   "source": [
    "# train/test with cross-validation:\n",
    "from sklearn.cross_validation import KFold"
   ]
  },
  {
   "cell_type": "code",
   "execution_count": 99,
   "metadata": {
    "collapsed": true
   },
   "outputs": [],
   "source": [
    "from sklearn.cross_validation import cross_val_score"
   ]
  },
  {
   "cell_type": "code",
   "execution_count": 100,
   "metadata": {},
   "outputs": [
    {
     "name": "stdout",
     "output_type": "stream",
     "text": [
      "[ 0.74193548  0.93333333  0.96666667  0.8         0.86666667]\n"
     ]
    }
   ],
   "source": [
    "# OR, do cross validation even easier:\n",
    "cv_score = cross_val_score(svc, fmri, conditions, cv=cv)\n",
    "print(cv_score)"
   ]
  },
  {
   "cell_type": "code",
   "execution_count": 101,
   "metadata": {},
   "outputs": [
    {
     "data": {
      "text/plain": [
       "0.86172043010752686"
      ]
     },
     "execution_count": 101,
     "metadata": {},
     "output_type": "execute_result"
    }
   ],
   "source": [
    "mean(cv_score)"
   ]
  },
  {
   "cell_type": "markdown",
   "metadata": {},
   "source": [
    "### Which voxels have the most weight?"
   ]
  },
  {
   "cell_type": "code",
   "execution_count": 102,
   "metadata": {},
   "outputs": [
    {
     "data": {
      "text/plain": [
       "(1, 63)"
      ]
     },
     "execution_count": 102,
     "metadata": {},
     "output_type": "execute_result"
    }
   ],
   "source": [
    "coef_ = svc.coef_\n",
    "coef_.shape"
   ]
  },
  {
   "cell_type": "code",
   "execution_count": 103,
   "metadata": {
    "collapsed": true
   },
   "outputs": [],
   "source": [
    "# these are the weights, but we need to know WHERE in the brain these voxels were\n",
    "# so, invert the mask\n",
    "coef_img = masker.inverse_transform(coef_)"
   ]
  },
  {
   "cell_type": "code",
   "execution_count": 107,
   "metadata": {
    "collapsed": true
   },
   "outputs": [],
   "source": [
    "# visualize\n",
    "from nilearn import plotting\n",
    "from nilearn.plotting import plot_stat_map, show"
   ]
  },
  {
   "cell_type": "code",
   "execution_count": 106,
   "metadata": {},
   "outputs": [
    {
     "name": "stdout",
     "output_type": "stream",
     "text": [
      "<class 'nibabel.nifti1.Nifti1Image'>\n",
      "data shape (80, 80, 15, 1)\n",
      "affine: \n",
      "[[   3.     0.     0.  -118.5]\n",
      " [   0.     3.     0.  -118.5]\n",
      " [   0.     0.     4.   -28. ]\n",
      " [   0.     0.     0.     1. ]]\n",
      "metadata:\n",
      "<class 'nibabel.nifti1.Nifti1Header'> object, endian='<'\n",
      "sizeof_hdr      : 348\n",
      "data_type       : b''\n",
      "db_name         : b''\n",
      "extents         : 0\n",
      "session_error   : 0\n",
      "regular         : b''\n",
      "dim_info        : 0\n",
      "dim             : [ 4 80 80 15  1  1  1  1]\n",
      "intent_p1       : 0.0\n",
      "intent_p2       : 0.0\n",
      "intent_p3       : 0.0\n",
      "intent_code     : none\n",
      "datatype        : float64\n",
      "bitpix          : 64\n",
      "slice_start     : 0\n",
      "pixdim          : [ 1.  3.  3.  4.  1.  1.  1.  1.]\n",
      "vox_offset      : 0.0\n",
      "scl_slope       : nan\n",
      "scl_inter       : nan\n",
      "slice_end       : 0\n",
      "slice_code      : unknown\n",
      "xyzt_units      : 0\n",
      "cal_max         : 0.0\n",
      "cal_min         : 0.0\n",
      "slice_duration  : 0.0\n",
      "toffset         : 0.0\n",
      "glmax           : 0\n",
      "glmin           : 0\n",
      "descrip         : b''\n",
      "aux_file        : b''\n",
      "qform_code      : unknown\n",
      "sform_code      : aligned\n",
      "quatern_b       : 0.0\n",
      "quatern_c       : 0.0\n",
      "quatern_d       : 0.0\n",
      "qoffset_x       : -118.5\n",
      "qoffset_y       : -118.5\n",
      "qoffset_z       : -28.0\n",
      "srow_x          : [   3.     0.     0.  -118.5]\n",
      "srow_y          : [   0.     3.     0.  -118.5]\n",
      "srow_z          : [  0.   0.   4. -28.]\n",
      "intent_name     : b''\n",
      "magic           : b'n+1'\n"
     ]
    }
   ],
   "source": [
    "print(coef_img)"
   ]
  },
  {
   "cell_type": "code",
   "execution_count": 109,
   "metadata": {},
   "outputs": [
    {
     "data": {
      "text/plain": [
       "<nilearn.plotting.displays.OrthoSlicer at 0x1109d0dd8>"
      ]
     },
     "execution_count": 109,
     "metadata": {},
     "output_type": "execute_result"
    },
    {
     "data": {
      "image/png": "[encoded data removed]",
      "text/plain": [
       "<matplotlib.figure.Figure at 0x10f704550>"
      ]
     },
     "metadata": {},
     "output_type": "display_data"
    }
   ],
   "source": [
    "plot_stat_map(coef_img, bg_img='../data/subject001/pyneal_002/mask_transforms/hires_FUNC.nii.gz')"
   ]
  }
 ],
 "metadata": {
  "kernelspec": {
   "display_name": "Python 3",
   "language": "python",
   "name": "python3"
  },
  "language_info": {
   "codemirror_mode": {
    "name": "ipython",
    "version": 3
   },
   "file_extension": ".py",
   "mimetype": "text/x-python",
   "name": "python",
   "nbconvert_exporter": "python",
   "pygments_lexer": "ipython3",
   "version": "3.6.4"
  },
  "toc": {
   "base_numbering": 1,
   "nav_menu": {},
   "number_sections": true,
   "sideBar": true,
   "skip_h1_title": false,
   "title_cell": "Table of Contents",
   "title_sidebar": "Contents",
   "toc_cell": false,
   "toc_position": {},
   "toc_section_display": true,
   "toc_window_display": true
  }
 },
 "nbformat": 4,
 "nbformat_minor": 2
}

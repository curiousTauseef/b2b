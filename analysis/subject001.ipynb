{
 "cells": [
  {
   "cell_type": "code",
   "execution_count": 1,
   "metadata": {},
   "outputs": [
    {
     "name": "stdout",
     "output_type": "stream",
     "text": [
      "Populating the interactive namespace from numpy and matplotlib\n"
     ]
    }
   ],
   "source": [
    "import os, sys\n",
    "from os.path import join\n",
    "\n",
    "import nibabel as nib\n",
    "import numpy as np\n",
    "import pandas as pd\n",
    "\n",
    "%pylab inline"
   ]
  },
  {
   "cell_type": "markdown",
   "metadata": {},
   "source": [
    "## Make timing files for each run\n",
    "\n",
    "   - each run was composed of 6 blocks. Each block began with 20s of rest, and then 10s of task (either motor squeezing or imagery)\n",
    "   - there was 6 seconds of disdaqs at the beginning\n",
    "   - However, the data collection started 2 TRs AFTER the task started. Thus with a TR of 1s, there were 2 seconds of task before the task started. Likewise, for a TR of 2s, there was 4 seconds of task before the task started. This was due to the 2 dummy scans that Philips inserts at the beginning of the each scan"
   ]
  },
  {
   "cell_type": "code",
   "execution_count": 13,
   "metadata": {},
   "outputs": [],
   "source": [
    "trialStarts = []\n",
    "currentTime = 0\n",
    "trialStarts.append(currentTime)\n",
    "while currentTime < 160:\n",
    "    \n",
    "    # increment by rest duration\n",
    "    currentTime += 20\n",
    "    trialStarts.append(currentTime)\n",
    "    \n",
    "    # increment by the task duration\n",
    "    currentTime += 10\n",
    "    trialStarts.append(currentTime)"
   ]
  },
  {
   "cell_type": "code",
   "execution_count": 12,
   "metadata": {},
   "outputs": [
    {
     "data": {
      "text/plain": [
       "[0, 20, 30, 50, 60, 80, 90, 110, 120, 140, 150, 170, 180]"
      ]
     },
     "execution_count": 12,
     "metadata": {},
     "output_type": "execute_result"
    }
   ],
   "source": [
    "trialStarts "
   ]
  },
  {
   "cell_type": "code",
   "execution_count": 5,
   "metadata": {
    "collapsed": true
   },
   "outputs": [],
   "source": [
    "trialTypes = ['rest', 'motor', \n",
    "             'rest', 'imagery',\n",
    "             'rest', 'imagery',\n",
    "             'rest', 'motor',\n",
    "             'rest', 'imagery',\n",
    "             'rest', 'motor']\n"
   ]
  },
  {
   "cell_type": "code",
   "execution_count": 6,
   "metadata": {},
   "outputs": [
    {
     "data": {
      "text/plain": [
       "['rest',\n",
       " 'motor',\n",
       " 'rest',\n",
       " 'imagery',\n",
       " 'rest',\n",
       " 'imagery',\n",
       " 'rest',\n",
       " 'motor',\n",
       " 'rest',\n",
       " 'imagery',\n",
       " 'rest',\n",
       " 'motor']"
      ]
     },
     "execution_count": 6,
     "metadata": {},
     "output_type": "execute_result"
    }
   ],
   "source": [
    "trialOnsets = pd.DataFrame({'trialTypes': trialTypes, 'onsets': trialStarts})"
   ]
  }
 ],
 "metadata": {
  "kernelspec": {
   "display_name": "Python 3",
   "language": "python",
   "name": "python3"
  },
  "language_info": {
   "codemirror_mode": {
    "name": "ipython",
    "version": 3
   },
   "file_extension": ".py",
   "mimetype": "text/x-python",
   "name": "python",
   "nbconvert_exporter": "python",
   "pygments_lexer": "ipython3",
   "version": "3.6.4"
  }
 },
 "nbformat": 4,
 "nbformat_minor": 2
}

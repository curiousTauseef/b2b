{
 "cells": [
  {
   "cell_type": "code",
   "execution_count": 3,
   "metadata": {},
   "outputs": [
    {
     "name": "stdout",
     "output_type": "stream",
     "text": [
      "Populating the interactive namespace from numpy and matplotlib\n"
     ]
    }
   ],
   "source": [
    "import os, sys\n",
    "from os.path import join\n",
    "\n",
    "import nibabel as nib\n",
    "import numpy as np\n",
    "import pandas as pd\n",
    "\n",
    "%pylab inline"
   ]
  },
  {
   "cell_type": "markdown",
   "metadata": {},
   "source": [
    "## Make timing files for each run\n",
    "\n",
    "   - each run was composed of 6 blocks. Each block began with 20s of rest, and then 10s of task (either motor squeezing or imagery)\n",
    "   - there was 6 seconds of disdaqs at the beginning\n",
    "   - However, the data collection started 2 TRs AFTER the task started. Thus with a TR of 1s, there were 2 seconds of task before the task started. Likewise, for a TR of 2s, there was 4 seconds of task before the task started. This was due to the 2 dummy scans that Philips inserts at the beginning of the each scan"
   ]
  },
  {
   "cell_type": "code",
   "execution_count": 4,
   "metadata": {
    "collapsed": true
   },
   "outputs": [],
   "source": [
    "trialStarts = []\n",
    "currentTime = 0\n",
    "\n",
    "for b in range(6):\n",
    "    # start time for rest\n",
    "    trialStarts.append(currentTime)\n",
    "\n",
    "    # increment by rest duration\n",
    "    currentTime += 20\n",
    "    \n",
    "    # start time for task\n",
    "    trialStarts.append(currentTime)\n",
    "    \n",
    "    # increment by the task duration\n",
    "    currentTime += 10\n",
    "\n",
    "# add in offset for \n",
    "trialStarts = np.array(trialStarts) + 6"
   ]
  },
  {
   "cell_type": "code",
   "execution_count": 5,
   "metadata": {
    "collapsed": true
   },
   "outputs": [],
   "source": [
    "## make separate arrays for TR=1s and TR=2s\n",
    "# subtract 2 dummy scans (2s)\n",
    "onsets_1sTR = trialStarts - 2\n",
    "\n",
    "# subtract 2 dummy scans (4s)\n",
    "onsets_2sTR = trialStarts - 4"
   ]
  },
  {
   "cell_type": "code",
   "execution_count": 6,
   "metadata": {
    "collapsed": true
   },
   "outputs": [],
   "source": [
    "# hardcoded order on each run\n",
    "trialTypes = ['rest', 'motor', \n",
    "             'rest', 'imagery',\n",
    "             'rest', 'imagery',\n",
    "             'rest', 'motor',\n",
    "             'rest', 'imagery',\n",
    "             'rest', 'motor']\n"
   ]
  },
  {
   "cell_type": "code",
   "execution_count": 7,
   "metadata": {
    "collapsed": true
   },
   "outputs": [],
   "source": [
    "# make a dataframe\n",
    "trialOnsets = pd.DataFrame({'trialTypes': trialTypes, 'onsets_TR1': onsets_1sTR, 'onsets_TR2': onsets_2sTR, 'weights': np.ones(onsets_1sTR.shape)})"
   ]
  },
  {
   "cell_type": "code",
   "execution_count": 8,
   "metadata": {
    "collapsed": true
   },
   "outputs": [],
   "source": [
    "def trialDuration(row):\n",
    "    if row['trialTypes'] == 'rest':\n",
    "        val = 20\n",
    "    else:\n",
    "        val = 10\n",
    "    return val\n",
    "trialOnsets['duration'] = trialOnsets.apply(trialDuration, axis=1)"
   ]
  },
  {
   "cell_type": "code",
   "execution_count": 9,
   "metadata": {},
   "outputs": [
    {
     "data": {
      "text/html": [
       "<div>\n",
       "<table border=\"1\" class=\"dataframe\">\n",
       "  <thead>\n",
       "    <tr style=\"text-align: right;\">\n",
       "      <th></th>\n",
       "      <th>onsets_TR1</th>\n",
       "      <th>onsets_TR2</th>\n",
       "      <th>trialTypes</th>\n",
       "      <th>weights</th>\n",
       "      <th>duration</th>\n",
       "    </tr>\n",
       "  </thead>\n",
       "  <tbody>\n",
       "    <tr>\n",
       "      <th>0</th>\n",
       "      <td>4</td>\n",
       "      <td>2</td>\n",
       "      <td>rest</td>\n",
       "      <td>1.0</td>\n",
       "      <td>20</td>\n",
       "    </tr>\n",
       "    <tr>\n",
       "      <th>1</th>\n",
       "      <td>24</td>\n",
       "      <td>22</td>\n",
       "      <td>motor</td>\n",
       "      <td>1.0</td>\n",
       "      <td>10</td>\n",
       "    </tr>\n",
       "    <tr>\n",
       "      <th>2</th>\n",
       "      <td>34</td>\n",
       "      <td>32</td>\n",
       "      <td>rest</td>\n",
       "      <td>1.0</td>\n",
       "      <td>20</td>\n",
       "    </tr>\n",
       "    <tr>\n",
       "      <th>3</th>\n",
       "      <td>54</td>\n",
       "      <td>52</td>\n",
       "      <td>imagery</td>\n",
       "      <td>1.0</td>\n",
       "      <td>10</td>\n",
       "    </tr>\n",
       "    <tr>\n",
       "      <th>4</th>\n",
       "      <td>64</td>\n",
       "      <td>62</td>\n",
       "      <td>rest</td>\n",
       "      <td>1.0</td>\n",
       "      <td>20</td>\n",
       "    </tr>\n",
       "    <tr>\n",
       "      <th>5</th>\n",
       "      <td>84</td>\n",
       "      <td>82</td>\n",
       "      <td>imagery</td>\n",
       "      <td>1.0</td>\n",
       "      <td>10</td>\n",
       "    </tr>\n",
       "    <tr>\n",
       "      <th>6</th>\n",
       "      <td>94</td>\n",
       "      <td>92</td>\n",
       "      <td>rest</td>\n",
       "      <td>1.0</td>\n",
       "      <td>20</td>\n",
       "    </tr>\n",
       "    <tr>\n",
       "      <th>7</th>\n",
       "      <td>114</td>\n",
       "      <td>112</td>\n",
       "      <td>motor</td>\n",
       "      <td>1.0</td>\n",
       "      <td>10</td>\n",
       "    </tr>\n",
       "    <tr>\n",
       "      <th>8</th>\n",
       "      <td>124</td>\n",
       "      <td>122</td>\n",
       "      <td>rest</td>\n",
       "      <td>1.0</td>\n",
       "      <td>20</td>\n",
       "    </tr>\n",
       "    <tr>\n",
       "      <th>9</th>\n",
       "      <td>144</td>\n",
       "      <td>142</td>\n",
       "      <td>imagery</td>\n",
       "      <td>1.0</td>\n",
       "      <td>10</td>\n",
       "    </tr>\n",
       "    <tr>\n",
       "      <th>10</th>\n",
       "      <td>154</td>\n",
       "      <td>152</td>\n",
       "      <td>rest</td>\n",
       "      <td>1.0</td>\n",
       "      <td>20</td>\n",
       "    </tr>\n",
       "    <tr>\n",
       "      <th>11</th>\n",
       "      <td>174</td>\n",
       "      <td>172</td>\n",
       "      <td>motor</td>\n",
       "      <td>1.0</td>\n",
       "      <td>10</td>\n",
       "    </tr>\n",
       "  </tbody>\n",
       "</table>\n",
       "</div>"
      ],
      "text/plain": [
       "    onsets_TR1  onsets_TR2 trialTypes  weights  duration\n",
       "0            4           2       rest      1.0        20\n",
       "1           24          22      motor      1.0        10\n",
       "2           34          32       rest      1.0        20\n",
       "3           54          52    imagery      1.0        10\n",
       "4           64          62       rest      1.0        20\n",
       "5           84          82    imagery      1.0        10\n",
       "6           94          92       rest      1.0        20\n",
       "7          114         112      motor      1.0        10\n",
       "8          124         122       rest      1.0        20\n",
       "9          144         142    imagery      1.0        10\n",
       "10         154         152       rest      1.0        20\n",
       "11         174         172      motor      1.0        10"
      ]
     },
     "execution_count": 9,
     "metadata": {},
     "output_type": "execute_result"
    }
   ],
   "source": [
    "trialOnsets"
   ]
  },
  {
   "cell_type": "markdown",
   "metadata": {},
   "source": [
    "### Write out FSL 3col files"
   ]
  },
  {
   "cell_type": "code",
   "execution_count": 63,
   "metadata": {
    "collapsed": true
   },
   "outputs": [],
   "source": [
    "# 1s TR files\n",
    "for trialType in ['rest', 'motor', 'imagery']:\n",
    "    df = trialOnsets.loc[trialOnsets.trialTypes == trialType, ['onsets_TR1','duration', 'weights']]\n",
    "    df.to_csv('../data/subject001/timingFiles/TR1_{}.txt'.format(trialType),\n",
    "              sep='\\t', \n",
    "              header=False,\n",
    "              index=False)\n",
    "    \n",
    "# 2s TR files\n",
    "for trialType in ['rest', 'motor', 'imagery']:\n",
    "    df = trialOnsets.loc[trialOnsets.trialTypes == trialType, ['onsets_TR2','duration', 'weights']]\n",
    "    df.to_csv('../data/subject001/timingFiles/TR2_{}.txt'.format(trialType),\n",
    "              sep='\\t', \n",
    "              header=False,\n",
    "              index=False)"
   ]
  },
  {
   "cell_type": "markdown",
   "metadata": {},
   "source": [
    "# Prep Masks"
   ]
  },
  {
   "cell_type": "markdown",
   "metadata": {},
   "source": [
    "For localizer-based masks, we analyzed the first run (pyneal_002) and computed constrast stats for `motor > rest` and `imagery > rest`. For each contrast, we took the coordinates of the voxel with the max zstat:\n",
    "\n",
    "* **motor > rest**: (28, 28, 10)\n",
    "* **imagery > rest**: (34, 35, 14)\n",
    "\n",
    "Since each run has different slice prescriptions and coverage, we need to convert these coordinates to MNI space, draw a 5mm sphere around the point, and save as a new mask.\n",
    "\n",
    "Then, for each run, transform the MNI-space mask down to subject functional space for that run. Mask by the whole brain mask to make sure no non-brain voxels are incldued in the final mask"
   ]
  },
  {
   "cell_type": "markdown",
   "metadata": {},
   "source": [
    "### Convert peak coordinate for each contrast to MNI space"
   ]
  },
  {
   "cell_type": "code",
   "execution_count": 23,
   "metadata": {},
   "outputs": [
    {
     "name": "stdout",
     "output_type": "stream",
     "text": [
      "Coordinates in Destination volume (in voxels)\r\n",
      "126.749  90.0093  133.427\r\n"
     ]
    }
   ],
   "source": [
    "# motor > rest peak coord in MNI space\n",
    "!echo 28 28 10 | img2imgcoord -src ../data/subject001/pyneal_002/exampleFunc.nii.gz -dest /usr/local/fsl/data/standard/MNI152_T1_1mm_brain.nii.gz -xfm ../data/subject001/pyneal_002/mask_transforms/func2mni.mat"
   ]
  },
  {
   "cell_type": "code",
   "execution_count": 25,
   "metadata": {},
   "outputs": [
    {
     "name": "stdout",
     "output_type": "stream",
     "text": [
      "Coordinates in Destination volume (in voxels)\r\n",
      "108.378  114.904  145.219\r\n"
     ]
    }
   ],
   "source": [
    "# imagery > rest peak coord in MNI space\n",
    "!echo 34 35 14 | img2imgcoord -src ../data/subject001/pyneal_002/exampleFunc.nii.gz -dest /usr/local/fsl/data/standard/MNI152_T1_1mm_brain.nii.gz -xfm ../data/subject001/pyneal_002/mask_transforms/func2mni.mat"
   ]
  },
  {
   "cell_type": "markdown",
   "metadata": {},
   "source": [
    "### Make 5mm sphere mask in MNI space around each peak"
   ]
  },
  {
   "cell_type": "code",
   "execution_count": 30,
   "metadata": {},
   "outputs": [],
   "source": [
    "# motor > rest\n",
    "!fslmaths /usr/local/fsl/data/standard/MNI152_T1_1mm_brain.nii.gz -mul 0 -add 1 -roi 127 1 90 1 133 1 0 1 tmpMotorPoint_MNI -odt float\n",
    "\n",
    "!fslmaths tmpMotorPoint_MNI.nii.gz -kernel sphere 5 -fmean -bin ../data/subject001/masks/motorSphere_5mm_MNI -odt float\n",
    "\n",
    "!rm tmpMotorPoint_MNI.nii.gz"
   ]
  },
  {
   "cell_type": "code",
   "execution_count": 31,
   "metadata": {
    "collapsed": true
   },
   "outputs": [],
   "source": [
    "# imagery > rest\n",
    "!fslmaths /usr/local/fsl/data/standard/MNI152_T1_1mm_brain.nii.gz -mul 0 -add 1 -roi 108 1 114 1 145 1 0 1 tmpImageryPoint_MNI -odt float\n",
    "\n",
    "!fslmaths tmpImageryPoint_MNI.nii.gz -kernel sphere 5 -fmean -bin ../data/subject001/masks/imagerySphere_5mm_MNI -odt float\n",
    "\n",
    "!rm tmpImageryPoint_MNI.nii.gz"
   ]
  }
 ],
 "metadata": {
  "kernelspec": {
   "display_name": "Python 3",
   "language": "python",
   "name": "python3"
  },
  "language_info": {
   "codemirror_mode": {
    "name": "ipython",
    "version": 3
   },
   "file_extension": ".py",
   "mimetype": "text/x-python",
   "name": "python",
   "nbconvert_exporter": "python",
   "pygments_lexer": "ipython3",
   "version": "3.6.4"
  }
 },
 "nbformat": 4,
 "nbformat_minor": 2
}
